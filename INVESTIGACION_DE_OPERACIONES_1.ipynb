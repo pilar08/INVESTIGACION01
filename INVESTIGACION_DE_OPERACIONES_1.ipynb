{
  "nbformat": 4,
  "nbformat_minor": 0,
  "metadata": {
    "colab": {
      "provenance": [],
      "toc_visible": true,
      "authorship_tag": "ABX9TyMLwZ2Xs09zRrjT4m9gdfo2",
      "include_colab_link": true
    },
    "kernelspec": {
      "name": "python3",
      "display_name": "Python 3"
    },
    "language_info": {
      "name": "python"
    }
  },
  "cells": [
    {
      "cell_type": "markdown",
      "metadata": {
        "id": "view-in-github",
        "colab_type": "text"
      },
      "source": [
        "<a href=\"https://colab.research.google.com/github/pilar08/INVESTIGACION01/blob/main/INVESTIGACION_DE_OPERACIONES_1.ipynb\" target=\"_parent\"><img src=\"https://colab.research.google.com/assets/colab-badge.svg\" alt=\"Open In Colab\"/></a>"
      ]
    },
    {
      "cell_type": "code",
      "execution_count": 3,
      "metadata": {
        "colab": {
          "base_uri": "https://localhost:8080/"
        },
        "id": "zkap01FAyPMF",
        "outputId": "ef19030c-bf73-493f-ce25-238867133440"
      },
      "outputs": [
        {
          "output_type": "stream",
          "name": "stdout",
          "text": [
            "Hola, mundo\n"
          ]
        }
      ],
      "source": [
        "print(\"Hola, mundo\")\n"
      ]
    },
    {
      "cell_type": "markdown",
      "source": [
        "# INVESTIGACION"
      ],
      "metadata": {
        "id": "JLudL3vXz90u"
      }
    },
    {
      "cell_type": "code",
      "source": [],
      "metadata": {
        "id": "O1wHIC9UyePX"
      },
      "execution_count": null,
      "outputs": []
    },
    {
      "cell_type": "markdown",
      "source": [
        "##OPERACIONES"
      ],
      "metadata": {
        "id": "uATZ984-yiYA"
      }
    },
    {
      "cell_type": "code",
      "source": [],
      "metadata": {
        "id": "7Q_2r7GxyTqt"
      },
      "execution_count": null,
      "outputs": []
    }
  ]
}